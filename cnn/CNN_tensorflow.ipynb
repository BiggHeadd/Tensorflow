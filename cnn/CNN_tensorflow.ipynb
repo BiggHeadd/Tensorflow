{
 "cells": [
  {
   "cell_type": "code",
   "execution_count": 51,
   "metadata": {},
   "outputs": [
    {
     "name": "stdout",
     "output_type": "stream",
     "text": [
      "Extracting MNIST_data/train-images-idx3-ubyte.gz\n",
      "Extracting MNIST_data/train-labels-idx1-ubyte.gz\n",
      "Extracting MNIST_data/t10k-images-idx3-ubyte.gz\n",
      "Extracting MNIST_data/t10k-labels-idx1-ubyte.gz\n"
     ]
    }
   ],
   "source": [
    "#-*- coding:utf-8 -*-\n",
    "#Edited by bighead 19-1-20\n",
    "import tensorflow as tf\n",
    "from tensorflow.examples.tutorials.mnist import input_data\n",
    "mnist = input_data.read_data_sets('MNIST_data', one_hot=True)"
   ]
  },
  {
   "cell_type": "code",
   "execution_count": 52,
   "metadata": {},
   "outputs": [],
   "source": [
    "def weight_variable(shape):\n",
    "    initial = tf.truncated_normal(shape, stddev=0.1)\n",
    "    with tf.name_scope('weights'):\n",
    "        Weights = tf.Variable(initial)\n",
    "        return Weights"
   ]
  },
  {
   "cell_type": "code",
   "execution_count": 53,
   "metadata": {},
   "outputs": [],
   "source": [
    "def bias_variable(shape):\n",
    "    initial = tf.constant(0.1, shape=shape)\n",
    "    with tf.name_scope('bias'):\n",
    "        bias = tf.Variable(initial)\n",
    "        return bias"
   ]
  },
  {
   "cell_type": "code",
   "execution_count": 54,
   "metadata": {},
   "outputs": [],
   "source": [
    "def con2d(x, W):\n",
    "    with tf.name_scope(\"con2d\"):\n",
    "        con2d_layer = tf.nn.conv2d(x, W, strides=[1,1,1,1], padding='SAME')\n",
    "        return con2d_layer"
   ]
  },
  {
   "cell_type": "code",
   "execution_count": 55,
   "metadata": {},
   "outputs": [],
   "source": [
    "def pooling(x):\n",
    "    with tf.name_scope('pooling'):\n",
    "        pooling_layer = tf.nn.max_pool(x, ksize=[1,2,2,1], strides=[1,2,2,1], padding='SAME')\n",
    "        return pooling_layer"
   ]
  },
  {
   "cell_type": "code",
   "execution_count": 84,
   "metadata": {},
   "outputs": [],
   "source": [
    "def compute_accuracy(x_target, y_target):\n",
    "    global prediction\n",
    "    y_predict = sess.run(prediction, feed_dict={xs: x_target, keep_prob:1})\n",
    "    correct_prediction = tf.equal(tf.argmax(y_predict, 1), tf.argmax(y_target, 1))\n",
    "    accuracy = tf.reduce_mean(tf.cast(correct_prediction, tf.float32))\n",
    "    result = sess.run(accuracy, feed_dict={xs:x_target, ys:y_target, keep_prob:1})\n",
    "    return result"
   ]
  },
  {
   "cell_type": "code",
   "execution_count": 57,
   "metadata": {},
   "outputs": [],
   "source": [
    "#inputs x & y\n",
    "with tf.name_scope('inputs'):\n",
    "    with tf.name_scope('x'):\n",
    "        xs = tf.placeholder(tf.float32, [None, 784])\n",
    "        x_image = tf.reshape(xs, [-1, 28, 28, 1])\n",
    "    with tf.name_scope('y'):\n",
    "        ys = tf.placeholder(tf.float32, [None, 10])\n",
    "    with tf.name_scope('keep_prob'):\n",
    "        keep_prob = tf.placeholder(tf.float32)"
   ]
  },
  {
   "cell_type": "code",
   "execution_count": 58,
   "metadata": {},
   "outputs": [],
   "source": [
    "#layer1: conv2d->pooling->\n",
    "with tf.name_scope('layer1_conv'):\n",
    "    with tf.name_scope('w'):\n",
    "        W_conv1 = weight_variable([5,5,1,32])\n",
    "    with tf.name_scope('b'):\n",
    "        b_conv1 = bias_variable([32])\n",
    "    with tf.name_scope('conv1'):\n",
    "        h_conv1 = tf.nn.relu(con2d(x_image, W_conv1) + b_conv1) #28*28*32\n",
    "    with tf.name_scope('pooling'):\n",
    "        h_pool1 = pooling(h_conv1) #14*14*32"
   ]
  },
  {
   "cell_type": "code",
   "execution_count": 59,
   "metadata": {},
   "outputs": [],
   "source": [
    "#layer2: conv2d->pooling->\n",
    "with tf.name_scope('layer2_conv'):\n",
    "    with tf.name_scope('w'):\n",
    "        W_conv2 = weight_variable([5,5,32,64])\n",
    "    with tf.name_scope('b'):\n",
    "        b_conv2 = bias_variable([64])\n",
    "    with tf.name_scope('conv2'):\n",
    "        h_conv2 = tf.nn.relu(con2d(h_pool1, W_conv2) + b_conv2) #14*14*64\n",
    "    with tf.name_scope('pooling'):\n",
    "        h_pool2 = pooling(h_conv2) #7*7*64"
   ]
  },
  {
   "cell_type": "code",
   "execution_count": 60,
   "metadata": {},
   "outputs": [],
   "source": [
    "#neural network layer1\n",
    "with tf.name_scope('layer3_nn'):\n",
    "    with tf.name_scope('reshape'):\n",
    "        h_flat = tf.reshape(h_pool2, [-1, 7*7*64])\n",
    "    with tf.name_scope('w'):\n",
    "        W_nn1 = weight_variable([7*7*64, 1024])\n",
    "    with tf.name_scope('b'):\n",
    "        b_nn1 = bias_variable([1024])\n",
    "    with tf.name_scope('connect'):\n",
    "        connect = tf.matmul(h_flat, W_nn1) + b_nn1\n",
    "    h_nn1 = tf.nn.relu(connect)\n",
    "    h_nn1_dropout = tf.nn.dropout(h_nn1, keep_prob)"
   ]
  },
  {
   "cell_type": "code",
   "execution_count": 61,
   "metadata": {},
   "outputs": [],
   "source": [
    "#neural network layer2\n",
    "with tf.name_scope('layer4_nn'):\n",
    "    with tf.name_scope('w'):\n",
    "        W_nn2 = weight_variable([1024, 10])\n",
    "    with tf.name_scope('b'):\n",
    "        b_nn2 = bias_variable([10])\n",
    "    with tf.name_scope('connect'):\n",
    "        connect2 = tf.matmul(h_nn1_dropout, W_nn2) + b_nn2\n",
    "    prediction = tf.nn.softmax(connect2)"
   ]
  },
  {
   "cell_type": "code",
   "execution_count": 62,
   "metadata": {},
   "outputs": [],
   "source": [
    "#loss\n",
    "with tf.name_scope('loss'):\n",
    "    cross_entropy = tf.reduce_mean(-tf.reduce_sum(ys*tf.log(prediction), reduction_indices=[1]))\n",
    "    tf.summary.scalar('loss', cross_entropy)"
   ]
  },
  {
   "cell_type": "code",
   "execution_count": 63,
   "metadata": {},
   "outputs": [],
   "source": [
    "#train\n",
    "train_step = tf.train.AdamOptimizer(1e-4).minimize(cross_entropy)"
   ]
  },
  {
   "cell_type": "code",
   "execution_count": 64,
   "metadata": {},
   "outputs": [],
   "source": [
    "#init\n",
    "init = tf.global_variables_initializer()"
   ]
  },
  {
   "cell_type": "code",
   "execution_count": 85,
   "metadata": {},
   "outputs": [
    {
     "name": "stdout",
     "output_type": "stream",
     "text": [
      "0.122\n",
      "0.755\n",
      "0.853\n",
      "0.882\n",
      "0.914\n",
      "0.915\n",
      "0.931\n",
      "0.945\n",
      "0.934\n",
      "0.95\n",
      "0.955\n",
      "0.953\n",
      "0.959\n",
      "0.959\n",
      "0.965\n",
      "0.957\n",
      "0.968\n",
      "0.969\n",
      "0.969\n",
      "0.973\n"
     ]
    }
   ],
   "source": [
    "#sess\n",
    "with tf.Session() as sess:\n",
    "    writer = tf.summary.FileWriter('logs/', sess.graph)\n",
    "    sess.run(init)\n",
    "    keep_prob_value = 0.5\n",
    "    for i in range(1000):\n",
    "        batch_xs, batch_ys = mnist.train.next_batch(100)\n",
    "        sess.run(train_step, feed_dict={xs:batch_xs, ys:batch_ys, keep_prob:keep_prob_value})\n",
    "        if i % 50 == 0:\n",
    "            accuracy = compute_accuracy(mnist.test.images[:1000], mnist.test.labels[:1000])\n",
    "            print(accuracy)"
   ]
  },
  {
   "cell_type": "code",
   "execution_count": null,
   "metadata": {},
   "outputs": [],
   "source": []
  }
 ],
 "metadata": {
  "kernelspec": {
   "display_name": "Python 3",
   "language": "python",
   "name": "python3"
  },
  "language_info": {
   "codemirror_mode": {
    "name": "ipython",
    "version": 3
   },
   "file_extension": ".py",
   "mimetype": "text/x-python",
   "name": "python",
   "nbconvert_exporter": "python",
   "pygments_lexer": "ipython3",
   "version": "3.6.6"
  }
 },
 "nbformat": 4,
 "nbformat_minor": 2
}
